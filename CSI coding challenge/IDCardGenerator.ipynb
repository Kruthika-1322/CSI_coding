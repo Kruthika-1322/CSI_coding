{
 "cells": [
  {
   "cell_type": "code",
   "execution_count": 10,
   "id": "f065e263",
   "metadata": {},
   "outputs": [],
   "source": [
    "import pandas as pd\n",
    "import numpy as np\n",
    "from PIL import Image,ImageDraw,ImageFont\n"
   ]
  },
  {
   "cell_type": "code",
   "execution_count": 11,
   "id": "dc9a07b3",
   "metadata": {},
   "outputs": [],
   "source": [
    "import PyPDF2\n",
    "from PyPDF2 import PdfMerger"
   ]
  },
  {
   "cell_type": "code",
   "execution_count": 12,
   "id": "c44dde06",
   "metadata": {},
   "outputs": [
    {
     "name": "stdout",
     "output_type": "stream",
     "text": [
      "           USN                    Name   Mobile No                   Email Id\n",
      "0   1JT19CS001              ABHISHEK H  9845084925  1JT19CS001@jyothyit.ac.in\n",
      "1   1JT19CS002          ABHISHEK KUMAR  8986183108  1JT19CS002@jyothyit.ac.in\n",
      "2   1JT19CS003              ADARSH S D  7022658525  1JT19CS003@jyothyit.ac.in\n",
      "3   1JT19CS004         ADITYA KRISHNAN  7019716670  1JT19CS004@jyothyit.ac.in\n",
      "4   1JT19CS005             AJIN SUMESH  9886468015  1JT19CS005@jyothyit.ac.in\n",
      "5   1JT19CS006               AJITH B M  7848997189  1JT19CS006@jyothyit.ac.in\n",
      "6   1JT19CS007              AKHILA M K  9535968348  1JT19CS007@jyothyit.ac.in\n",
      "7   1JT19CS008         AKSHAYKUMAR J G  9448273227  1JT19CS008@jyothyit.ac.in\n",
      "8   1JT19CS009          AMOGH K SHARMA  7760457980  1JT19CS009@jyothyit.ac.in\n",
      "9   1JT19CS010               AMRUTHA S  8105194810  1JT19CS010@jyothyit.ac.in\n",
      "10  1JT19CS011     ASHWIN SHYAM SUNDER  9845072775  1JT19CS011@jyothyit.ac.in\n",
      "11  1JT19CS012            BHOOMIKA A S  9972475528  1JT19CS012@jyothyit.ac.in\n",
      "12  1JT19CS013   BHOOMIKA HARDIKAR H V  9482632001  1JT19CS013@jyothyit.ac.in\n",
      "13  1JT19CS014        BHOOMIKA U BHATT  9008075280  1JT19CS014@jyothyit.ac.in\n",
      "14  1JT19CS015     BHUVANESHWARI HEGDE  8197621952  1JT19CS015@jyothyit.ac.in\n",
      "15  1JT19CS016               CHAITHRA   9481626420  1JT19CS016@jyothyit.ac.in\n",
      "16  1JT19CS017           CHANDRIKA V G  9900197962  1JT19CS017@jyothyit.ac.in\n",
      "17  1JT19CS018               CHANDRU M  7625006243  1JT19CS018@jyothyit.ac.in\n",
      "18  1JT19CS019                CHIRAG M  7892379961  1JT19CS019@jyothyit.ac.in\n",
      "19  1JT19CS020  DHANYA HEGDE KAIGADI D  9449972344  1JT19CS020@jyothyit.ac.in\n",
      "20  1JT19CS021                  KUNAL   8884812102  1JT19CS021@jyothyit.ac.in\n",
      "21  1JT19CS022               DARSHAN R  9902888922  1JT19CS022@jyothyit.ac.in\n",
      "22  1JT19CS023               DHANUSH M  8792818310  1JT19CS023@jyothyit.ac.in\n",
      "23  1JT19CS024        DHANUSH P MITHRA  9742891864  1JT19CS024@jyothyit.ac.in\n",
      "24  1JT19CS025               DHEERAJ S  9113047919  1JT19CS025@jyothyit.ac.in\n",
      "25  1JT19CS026       DIPENDRA BABU R L  8217529214  1JT19CS026@jyothyit.ac.in\n",
      "26  1JT19CS027         DURGAPRASAD M K  6363329344  1JT19CS027@jyothyit.ac.in\n",
      "27  1JT19CS028          FAISAL MANZOOR  7006741515  1JT19CS028@jyothyit.ac.in\n",
      "28  1JT19CS029        FAIZAN MOHAMMAD   9682314259  1JT19CS029@jyothyit.ac.in\n",
      "29  1JT19CS030              GAGANRAJ V  9972092541  1JT19CS030@jyothyit.ac.in\n"
     ]
    }
   ],
   "source": [
    "df=pd.read_excel(\"C:\\\\Users\\\\kruth\\\\Desktop\\\\Untitled Folder\\\\Student Data.xlsx\")\n",
    "print(df)"
   ]
  },
  {
   "cell_type": "code",
   "execution_count": 13,
   "id": "83c67fc7",
   "metadata": {},
   "outputs": [
    {
     "name": "stderr",
     "output_type": "stream",
     "text": [
      "C:\\Users\\kruth\\AppData\\Local\\Temp\\ipykernel_26892\\1274297669.py:1: FutureWarning: Using short name for 'orient' is deprecated. Only the options: ('dict', list, 'series', 'split', 'records', 'index') will be used in a future version. Use one of the above to silence this warning.\n",
      "  records=df.to_dict(orient='record')\n"
     ]
    }
   ],
   "source": [
    "records=df.to_dict(orient='record')\n"
   ]
  },
  {
   "cell_type": "code",
   "execution_count": 15,
   "id": "5d8d42ba",
   "metadata": {},
   "outputs": [],
   "source": [
    "#change paths of the required file as needed\n",
    "def genearteCard(data):\n",
    "    template=Image.open(\"C:\\\\Users\\\\kruth\\\\OneDrive\\\\Desktop\\\\IDcard\\\\IDTemplatePng.jpg\")\n",
    "    draw1=ImageDraw.Draw(template)\n",
    "    font=ImageFont.truetype(\"C:\\\\Users\\\\kruth\\\\OneDrive\\\\Desktop\\\\IDcard\\\\SourceSansPro-Italic.ttf\",size=13)\n",
    "    font2=ImageFont.truetype(\"C:\\\\Users\\\\kruth\\\\OneDrive\\\\Desktop\\\\IDcard\\\\Amaranth-Regular.ttf\",size=16)\n",
    "    img=Image.open(f\"C:\\\\Users\\\\kruth\\\\OneDrive\\\\Desktop\\\\IDcard\\\\Photos\\\\{data['USN']}.jpg\").resize((95,105),Image.ANTIALIAS)\n",
    "\n",
    "    template.paste(img,(72,54,167,159))\n",
    "    draw1.text((131,240),str(data['USN']),font=font,fill='white')\n",
    "    draw1.text((60-(len(data['Name'])/2),160),str(data['Name']),font=font2,fill='Black',align=\"LEFT\")\n",
    "    return template"
   ]
  },
  {
   "cell_type": "code",
   "execution_count": 16,
   "id": "4bdc041c",
   "metadata": {},
   "outputs": [],
   "source": [
    "j=0\n",
    "for i in range(0,29,2):\n",
    "    j=j+1\n",
    "    image1=genearteCard(records[i])\n",
    "    image2=genearteCard(records[i+1])\n",
    "    image_new=Image.new('RGB',(image1.width+image2.width,image1.height))\n",
    "    image_new.paste(image1,(0,0))\n",
    "    image_new.paste(image2,(image1.width,0))\n",
    "    image_new.save(f\"C:\\\\Users\\\\kruth\\\\Desktop\\\\Final\\\\{j}.pdf\")#change path as needed\n",
    "\n",
    "    "
   ]
  },
  {
   "cell_type": "code",
   "execution_count": null,
   "id": "042fc6ad",
   "metadata": {},
   "outputs": [],
   "source": []
  }
 ],
 "metadata": {
  "kernelspec": {
   "display_name": "Python 3 (ipykernel)",
   "language": "python",
   "name": "python3"
  },
  "language_info": {
   "codemirror_mode": {
    "name": "ipython",
    "version": 3
   },
   "file_extension": ".py",
   "mimetype": "text/x-python",
   "name": "python",
   "nbconvert_exporter": "python",
   "pygments_lexer": "ipython3",
   "version": "3.9.12"
  }
 },
 "nbformat": 4,
 "nbformat_minor": 5
}
